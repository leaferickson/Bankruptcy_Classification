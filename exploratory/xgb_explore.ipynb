{
 "cells": [
  {
   "cell_type": "code",
   "execution_count": 43,
   "metadata": {},
   "outputs": [
    {
     "name": "stdout",
     "output_type": "stream",
     "text": [
      "Fitting 3 folds for each of 40 candidates, totalling 120 fits\n",
      "[CV] max_depth=63, learning_rate=0.1, gamma=0.02, colsample_bylevel=0.25 \n",
      "[CV] max_depth=63, learning_rate=0.1, gamma=0.02, colsample_bylevel=0.25 \n",
      "[CV] max_depth=63, learning_rate=0.1, gamma=0.02, colsample_bylevel=0.25 \n",
      "[CV] max_depth=16, learning_rate=0.1, gamma=0.05, colsample_bylevel=0.25 \n",
      "[CV]  max_depth=63, learning_rate=0.1, gamma=0.02, colsample_bylevel=0.25, total=   2.6s\n",
      "[CV] max_depth=16, learning_rate=0.1, gamma=0.05, colsample_bylevel=0.25 \n",
      "[CV]  max_depth=63, learning_rate=0.1, gamma=0.02, colsample_bylevel=0.25, total=   3.4s\n",
      "[CV] max_depth=16, learning_rate=0.1, gamma=0.05, colsample_bylevel=0.25 \n",
      "[CV]  max_depth=63, learning_rate=0.1, gamma=0.02, colsample_bylevel=0.25, total=   3.5s\n",
      "[CV] max_depth=16, learning_rate=0.1, gamma=0.1, colsample_bylevel=0.1 \n",
      "[CV]  max_depth=16, learning_rate=0.1, gamma=0.05, colsample_bylevel=0.25, total=   3.5s\n",
      "[CV] max_depth=16, learning_rate=0.1, gamma=0.1, colsample_bylevel=0.1 \n",
      "[CV]  max_depth=16, learning_rate=0.1, gamma=0.05, colsample_bylevel=0.25, total=   2.5s\n",
      "[CV] max_depth=16, learning_rate=0.1, gamma=0.1, colsample_bylevel=0.1 \n",
      "[CV]  max_depth=16, learning_rate=0.1, gamma=0.1, colsample_bylevel=0.1, total=   1.8s\n",
      "[CV] max_depth=110, learning_rate=0.12, gamma=0.05, colsample_bylevel=0.4 \n",
      "[CV]  max_depth=16, learning_rate=0.1, gamma=0.1, colsample_bylevel=0.1, total=   1.8s\n",
      "[CV] max_depth=110, learning_rate=0.12, gamma=0.05, colsample_bylevel=0.4 \n",
      "[CV]  max_depth=16, learning_rate=0.1, gamma=0.05, colsample_bylevel=0.25, total=   3.0s\n",
      "[CV] max_depth=110, learning_rate=0.12, gamma=0.05, colsample_bylevel=0.4 \n",
      "[CV]  max_depth=16, learning_rate=0.1, gamma=0.1, colsample_bylevel=0.1, total=   1.9s\n",
      "[CV] max_depth=16, learning_rate=0.08, gamma=0.02, colsample_bylevel=0.25 \n",
      "[CV]  max_depth=110, learning_rate=0.12, gamma=0.05, colsample_bylevel=0.4, total=   3.6s\n",
      "[CV] max_depth=16, learning_rate=0.08, gamma=0.02, colsample_bylevel=0.25 \n",
      "[CV]  max_depth=110, learning_rate=0.12, gamma=0.05, colsample_bylevel=0.4, total=   4.3s\n",
      "[CV] max_depth=16, learning_rate=0.08, gamma=0.02, colsample_bylevel=0.25 \n",
      "[CV]  max_depth=110, learning_rate=0.12, gamma=0.05, colsample_bylevel=0.4, total=   3.8s\n",
      "[CV] max_depth=1, learning_rate=0.1, gamma=0.1, colsample_bylevel=0.1 \n",
      "[CV]  max_depth=16, learning_rate=0.08, gamma=0.02, colsample_bylevel=0.25, total=   3.6s\n",
      "[CV]  max_depth=1, learning_rate=0.1, gamma=0.1, colsample_bylevel=0.1, total=   0.5s\n",
      "[CV] max_depth=1, learning_rate=0.1, gamma=0.1, colsample_bylevel=0.1 \n",
      "[CV] max_depth=1, learning_rate=0.1, gamma=0.1, colsample_bylevel=0.1 \n",
      "[CV]  max_depth=1, learning_rate=0.1, gamma=0.1, colsample_bylevel=0.1, total=   0.3s\n",
      "[CV] max_depth=16, learning_rate=0.12, gamma=0.02, colsample_bylevel=0.4 \n",
      "[CV]  max_depth=1, learning_rate=0.1, gamma=0.1, colsample_bylevel=0.1, total=   0.4s\n",
      "[CV] max_depth=16, learning_rate=0.12, gamma=0.02, colsample_bylevel=0.4 \n",
      "[CV]  max_depth=16, learning_rate=0.08, gamma=0.02, colsample_bylevel=0.25, total=   3.5s\n",
      "[CV] max_depth=16, learning_rate=0.12, gamma=0.02, colsample_bylevel=0.4 \n",
      "[CV]  max_depth=16, learning_rate=0.08, gamma=0.02, colsample_bylevel=0.25, total=   3.4s\n",
      "[CV] max_depth=110, learning_rate=0.08, gamma=0.1, colsample_bylevel=0.4 \n",
      "[CV]  max_depth=16, learning_rate=0.12, gamma=0.02, colsample_bylevel=0.4, total=   3.6s\n",
      "[CV] max_depth=110, learning_rate=0.08, gamma=0.1, colsample_bylevel=0.4 \n",
      "[CV]  max_depth=16, learning_rate=0.12, gamma=0.02, colsample_bylevel=0.4, total=   4.3s\n",
      "[CV] max_depth=110, learning_rate=0.08, gamma=0.1, colsample_bylevel=0.4 \n",
      "[CV]  max_depth=16, learning_rate=0.12, gamma=0.02, colsample_bylevel=0.4, total=   4.5s\n",
      "[CV] max_depth=32, learning_rate=0.12, gamma=0.1, colsample_bylevel=0.4 \n",
      "[CV]  max_depth=110, learning_rate=0.08, gamma=0.1, colsample_bylevel=0.4, total=   5.1s\n",
      "[CV] max_depth=32, learning_rate=0.12, gamma=0.1, colsample_bylevel=0.4 \n",
      "[CV]  max_depth=110, learning_rate=0.08, gamma=0.1, colsample_bylevel=0.4, total=   4.2s\n",
      "[CV] max_depth=32, learning_rate=0.12, gamma=0.1, colsample_bylevel=0.4 \n",
      "[CV]  max_depth=110, learning_rate=0.08, gamma=0.1, colsample_bylevel=0.4, total=   4.4s\n",
      "[CV] max_depth=47, learning_rate=0.15, gamma=0.1, colsample_bylevel=0.4 \n",
      "[CV]  max_depth=32, learning_rate=0.12, gamma=0.1, colsample_bylevel=0.4, total=   4.5s\n",
      "[CV] max_depth=47, learning_rate=0.15, gamma=0.1, colsample_bylevel=0.4 \n",
      "[CV]  max_depth=32, learning_rate=0.12, gamma=0.1, colsample_bylevel=0.4, total=   4.6s\n",
      "[CV] max_depth=47, learning_rate=0.15, gamma=0.1, colsample_bylevel=0.4 \n",
      "[CV]  max_depth=32, learning_rate=0.12, gamma=0.1, colsample_bylevel=0.4, total=   4.6s\n",
      "[CV] max_depth=94, learning_rate=0.08, gamma=0.02, colsample_bylevel=0.25 \n",
      "[CV]  max_depth=47, learning_rate=0.15, gamma=0.1, colsample_bylevel=0.4, total=   4.1s\n",
      "[CV] max_depth=94, learning_rate=0.08, gamma=0.02, colsample_bylevel=0.25 \n",
      "[CV]  max_depth=47, learning_rate=0.15, gamma=0.1, colsample_bylevel=0.4, total=   4.0s\n",
      "[CV] max_depth=94, learning_rate=0.08, gamma=0.02, colsample_bylevel=0.25 \n",
      "[CV]  max_depth=94, learning_rate=0.08, gamma=0.02, colsample_bylevel=0.25, total=   2.5s\n",
      "[CV] max_depth=16, learning_rate=0.15, gamma=0.02, colsample_bylevel=0.25 \n",
      "[CV]  max_depth=47, learning_rate=0.15, gamma=0.1, colsample_bylevel=0.4, total=   4.4s\n",
      "[CV] max_depth=16, learning_rate=0.15, gamma=0.02, colsample_bylevel=0.25 \n",
      "[CV]  max_depth=94, learning_rate=0.08, gamma=0.02, colsample_bylevel=0.25, total=   3.4s\n",
      "[CV] max_depth=16, learning_rate=0.15, gamma=0.02, colsample_bylevel=0.25 \n",
      "[CV]  max_depth=16, learning_rate=0.15, gamma=0.02, colsample_bylevel=0.25, total=   2.3s\n",
      "[CV] max_depth=110, learning_rate=0.15, gamma=0.05, colsample_bylevel=0.4 \n",
      "[CV]  max_depth=94, learning_rate=0.08, gamma=0.02, colsample_bylevel=0.25, total=   3.3s\n"
     ]
    },
    {
     "name": "stderr",
     "output_type": "stream",
     "text": [
      "[Parallel(n_jobs=-1)]: Done  33 tasks      | elapsed:   29.7s\n"
     ]
    },
    {
     "name": "stdout",
     "output_type": "stream",
     "text": [
      "[CV] max_depth=110, learning_rate=0.15, gamma=0.05, colsample_bylevel=0.4 \n",
      "[CV]  max_depth=16, learning_rate=0.15, gamma=0.02, colsample_bylevel=0.25, total=   3.2s\n",
      "[CV] max_depth=110, learning_rate=0.15, gamma=0.05, colsample_bylevel=0.4 \n",
      "[CV]  max_depth=16, learning_rate=0.15, gamma=0.02, colsample_bylevel=0.25, total=   3.3s\n",
      "[CV] max_depth=32, learning_rate=0.08, gamma=0.1, colsample_bylevel=0.4 \n",
      "[CV]  max_depth=110, learning_rate=0.15, gamma=0.05, colsample_bylevel=0.4, total=   3.1s\n",
      "[CV] max_depth=32, learning_rate=0.08, gamma=0.1, colsample_bylevel=0.4 \n",
      "[CV]  max_depth=110, learning_rate=0.15, gamma=0.05, colsample_bylevel=0.4, total=   4.0s\n",
      "[CV] max_depth=32, learning_rate=0.08, gamma=0.1, colsample_bylevel=0.4 \n",
      "[CV]  max_depth=110, learning_rate=0.15, gamma=0.05, colsample_bylevel=0.4, total=   4.0s\n",
      "[CV] max_depth=1, learning_rate=0.1, gamma=0.02, colsample_bylevel=0.25 \n",
      "[CV]  max_depth=1, learning_rate=0.1, gamma=0.02, colsample_bylevel=0.25, total=   0.8s\n",
      "[CV] max_depth=1, learning_rate=0.1, gamma=0.02, colsample_bylevel=0.25 \n",
      "[CV]  max_depth=32, learning_rate=0.08, gamma=0.1, colsample_bylevel=0.4, total=   4.9s\n",
      "[CV] max_depth=1, learning_rate=0.1, gamma=0.02, colsample_bylevel=0.25 \n",
      "[CV]  max_depth=1, learning_rate=0.1, gamma=0.02, colsample_bylevel=0.25, total=   0.6s\n",
      "[CV] max_depth=1, learning_rate=0.1, gamma=0.05, colsample_bylevel=0.4 \n",
      "[CV]  max_depth=1, learning_rate=0.1, gamma=0.02, colsample_bylevel=0.25, total=   0.7s\n",
      "[CV] max_depth=1, learning_rate=0.1, gamma=0.05, colsample_bylevel=0.4 \n",
      "[CV]  max_depth=32, learning_rate=0.08, gamma=0.1, colsample_bylevel=0.4, total=   4.6s\n",
      "[CV] max_depth=1, learning_rate=0.1, gamma=0.05, colsample_bylevel=0.4 \n",
      "[CV]  max_depth=1, learning_rate=0.1, gamma=0.05, colsample_bylevel=0.4, total=   1.0s\n",
      "[CV] max_depth=63, learning_rate=0.12, gamma=0.05, colsample_bylevel=0.1 \n",
      "[CV]  max_depth=1, learning_rate=0.1, gamma=0.05, colsample_bylevel=0.4, total=   0.6s\n",
      "[CV] max_depth=63, learning_rate=0.12, gamma=0.05, colsample_bylevel=0.1 \n",
      "[CV]  max_depth=1, learning_rate=0.1, gamma=0.05, colsample_bylevel=0.4, total=   1.0s\n",
      "[CV] max_depth=63, learning_rate=0.12, gamma=0.05, colsample_bylevel=0.1 \n",
      "[CV]  max_depth=32, learning_rate=0.08, gamma=0.1, colsample_bylevel=0.4, total=   4.9s\n",
      "[CV] max_depth=1, learning_rate=0.08, gamma=0.1, colsample_bylevel=0.1 \n",
      "[CV]  max_depth=1, learning_rate=0.08, gamma=0.1, colsample_bylevel=0.1, total=   0.3s\n",
      "[CV] max_depth=1, learning_rate=0.08, gamma=0.1, colsample_bylevel=0.1 \n",
      "[CV]  max_depth=1, learning_rate=0.08, gamma=0.1, colsample_bylevel=0.1, total=   0.4s\n",
      "[CV] max_depth=1, learning_rate=0.08, gamma=0.1, colsample_bylevel=0.1 \n",
      "[CV]  max_depth=63, learning_rate=0.12, gamma=0.05, colsample_bylevel=0.1, total=   1.7s\n",
      "[CV] max_depth=16, learning_rate=0.1, gamma=0.05, colsample_bylevel=0.1 \n",
      "[CV]  max_depth=1, learning_rate=0.08, gamma=0.1, colsample_bylevel=0.1, total=   0.4s\n",
      "[CV] max_depth=16, learning_rate=0.1, gamma=0.05, colsample_bylevel=0.1 \n",
      "[CV]  max_depth=63, learning_rate=0.12, gamma=0.05, colsample_bylevel=0.1, total=   2.0s\n",
      "[CV] max_depth=16, learning_rate=0.1, gamma=0.05, colsample_bylevel=0.1 \n",
      "[CV]  max_depth=63, learning_rate=0.12, gamma=0.05, colsample_bylevel=0.1, total=   2.0s\n",
      "[CV] max_depth=1, learning_rate=0.15, gamma=0.1, colsample_bylevel=0.1 \n",
      "[CV]  max_depth=1, learning_rate=0.15, gamma=0.1, colsample_bylevel=0.1, total=   0.3s\n",
      "[CV] max_depth=1, learning_rate=0.15, gamma=0.1, colsample_bylevel=0.1 \n",
      "[CV]  max_depth=1, learning_rate=0.15, gamma=0.1, colsample_bylevel=0.1, total=   0.5s\n",
      "[CV] max_depth=1, learning_rate=0.15, gamma=0.1, colsample_bylevel=0.1 \n",
      "[CV]  max_depth=16, learning_rate=0.1, gamma=0.05, colsample_bylevel=0.1, total=   1.8s\n",
      "[CV] max_depth=1, learning_rate=0.08, gamma=0.05, colsample_bylevel=0.1 \n",
      "[CV]  max_depth=16, learning_rate=0.1, gamma=0.05, colsample_bylevel=0.1, total=   1.9s\n",
      "[CV] max_depth=1, learning_rate=0.08, gamma=0.05, colsample_bylevel=0.1 \n",
      "[CV]  max_depth=1, learning_rate=0.15, gamma=0.1, colsample_bylevel=0.1, total=   0.5s\n",
      "[CV]  max_depth=1, learning_rate=0.08, gamma=0.05, colsample_bylevel=0.1, total=   0.4s\n",
      "[CV] max_depth=1, learning_rate=0.08, gamma=0.05, colsample_bylevel=0.1 \n",
      "[CV]  max_depth=16, learning_rate=0.1, gamma=0.05, colsample_bylevel=0.1, total=   1.9s\n",
      "[CV] max_depth=16, learning_rate=0.08, gamma=0.02, colsample_bylevel=0.1 \n",
      "[CV] max_depth=16, learning_rate=0.08, gamma=0.02, colsample_bylevel=0.1 \n",
      "[CV]  max_depth=1, learning_rate=0.08, gamma=0.05, colsample_bylevel=0.1, total=   0.4s\n",
      "[CV] max_depth=16, learning_rate=0.08, gamma=0.02, colsample_bylevel=0.1 \n",
      "[CV]  max_depth=1, learning_rate=0.08, gamma=0.05, colsample_bylevel=0.1, total=   0.5s\n",
      "[CV] max_depth=63, learning_rate=0.15, gamma=0.1, colsample_bylevel=0.25 \n",
      "[CV]  max_depth=16, learning_rate=0.08, gamma=0.02, colsample_bylevel=0.1, total=   1.6s\n",
      "[CV] max_depth=63, learning_rate=0.15, gamma=0.1, colsample_bylevel=0.25 \n",
      "[CV]  max_depth=16, learning_rate=0.08, gamma=0.02, colsample_bylevel=0.1, total=   2.2s\n",
      "[CV]  max_depth=16, learning_rate=0.08, gamma=0.02, colsample_bylevel=0.1, total=   2.5s\n",
      "[CV] max_depth=63, learning_rate=0.15, gamma=0.1, colsample_bylevel=0.25 \n",
      "[CV] max_depth=94, learning_rate=0.12, gamma=0.05, colsample_bylevel=0.4 \n",
      "[CV]  max_depth=63, learning_rate=0.15, gamma=0.1, colsample_bylevel=0.25, total=   3.4s\n",
      "[CV] max_depth=94, learning_rate=0.12, gamma=0.05, colsample_bylevel=0.4 \n",
      "[CV]  max_depth=63, learning_rate=0.15, gamma=0.1, colsample_bylevel=0.25, total=   2.5s\n",
      "[CV] max_depth=94, learning_rate=0.12, gamma=0.05, colsample_bylevel=0.4 \n",
      "[CV]  max_depth=63, learning_rate=0.15, gamma=0.1, colsample_bylevel=0.25, total=   3.0s\n",
      "[CV] max_depth=16, learning_rate=0.08, gamma=0.05, colsample_bylevel=0.25 \n",
      "[CV]  max_depth=94, learning_rate=0.12, gamma=0.05, colsample_bylevel=0.4, total=   4.4s\n",
      "[CV] max_depth=16, learning_rate=0.08, gamma=0.05, colsample_bylevel=0.25 \n",
      "[CV]  max_depth=94, learning_rate=0.12, gamma=0.05, colsample_bylevel=0.4, total=   5.4s\n",
      "[CV] max_depth=16, learning_rate=0.08, gamma=0.05, colsample_bylevel=0.25 \n",
      "[CV]  max_depth=94, learning_rate=0.12, gamma=0.05, colsample_bylevel=0.4, total=   5.4s\n",
      "[CV] max_depth=1, learning_rate=0.15, gamma=0.1, colsample_bylevel=0.4 \n",
      "[CV]  max_depth=16, learning_rate=0.08, gamma=0.05, colsample_bylevel=0.25, total=   2.7s\n",
      "[CV] max_depth=1, learning_rate=0.15, gamma=0.1, colsample_bylevel=0.4 \n",
      "[CV]  max_depth=16, learning_rate=0.08, gamma=0.05, colsample_bylevel=0.25, total=   4.3s\n",
      "[CV] max_depth=1, learning_rate=0.15, gamma=0.1, colsample_bylevel=0.4 \n",
      "[CV]  max_depth=1, learning_rate=0.15, gamma=0.1, colsample_bylevel=0.4, total=   0.8s\n",
      "[CV]  max_depth=1, learning_rate=0.15, gamma=0.1, colsample_bylevel=0.4, total=   0.7s\n",
      "[CV] max_depth=16, learning_rate=0.12, gamma=0.02, colsample_bylevel=0.1 \n",
      "[CV] max_depth=16, learning_rate=0.12, gamma=0.02, colsample_bylevel=0.1 \n",
      "[CV]  max_depth=1, learning_rate=0.15, gamma=0.1, colsample_bylevel=0.4, total=   1.0s\n",
      "[CV] max_depth=16, learning_rate=0.12, gamma=0.02, colsample_bylevel=0.1 \n",
      "[CV]  max_depth=16, learning_rate=0.12, gamma=0.02, colsample_bylevel=0.1, total=   1.7s\n",
      "[CV] max_depth=16, learning_rate=0.08, gamma=0.05, colsample_bylevel=0.1 \n",
      "[CV]  max_depth=16, learning_rate=0.12, gamma=0.02, colsample_bylevel=0.1, total=   2.1s\n",
      "[CV] max_depth=16, learning_rate=0.08, gamma=0.05, colsample_bylevel=0.1 \n",
      "[CV]  max_depth=16, learning_rate=0.12, gamma=0.02, colsample_bylevel=0.1, total=   1.9s\n",
      "[CV] max_depth=16, learning_rate=0.08, gamma=0.05, colsample_bylevel=0.1 \n",
      "[CV]  max_depth=16, learning_rate=0.08, gamma=0.05, colsample_bylevel=0.25, total=   3.9s\n",
      "[CV] max_depth=94, learning_rate=0.08, gamma=0.02, colsample_bylevel=0.1 \n",
      "[CV]  max_depth=16, learning_rate=0.08, gamma=0.05, colsample_bylevel=0.1, total=   2.6s\n",
      "[CV] max_depth=94, learning_rate=0.08, gamma=0.02, colsample_bylevel=0.1 \n",
      "[CV]  max_depth=16, learning_rate=0.08, gamma=0.05, colsample_bylevel=0.1, total=   2.3s\n",
      "[CV] max_depth=94, learning_rate=0.08, gamma=0.02, colsample_bylevel=0.1 \n",
      "[CV]  max_depth=94, learning_rate=0.08, gamma=0.02, colsample_bylevel=0.1, total=   1.7s\n",
      "[CV] max_depth=1, learning_rate=0.08, gamma=0.05, colsample_bylevel=0.4 \n",
      "[CV]  max_depth=1, learning_rate=0.08, gamma=0.05, colsample_bylevel=0.4, total=   0.6s\n"
     ]
    },
    {
     "name": "stdout",
     "output_type": "stream",
     "text": [
      "[CV] max_depth=1, learning_rate=0.08, gamma=0.05, colsample_bylevel=0.4 \n",
      "[CV]  max_depth=16, learning_rate=0.08, gamma=0.05, colsample_bylevel=0.1, total=   2.8s\n",
      "[CV] max_depth=1, learning_rate=0.08, gamma=0.05, colsample_bylevel=0.4 \n",
      "[CV]  max_depth=1, learning_rate=0.08, gamma=0.05, colsample_bylevel=0.4, total=   0.6s\n",
      "[CV] max_depth=110, learning_rate=0.12, gamma=0.05, colsample_bylevel=0.1 \n",
      "[CV]  max_depth=94, learning_rate=0.08, gamma=0.02, colsample_bylevel=0.1, total=   1.8s\n",
      "[CV] max_depth=110, learning_rate=0.12, gamma=0.05, colsample_bylevel=0.1 \n",
      "[CV]  max_depth=1, learning_rate=0.08, gamma=0.05, colsample_bylevel=0.4, total=   0.9s\n",
      "[CV] max_depth=110, learning_rate=0.12, gamma=0.05, colsample_bylevel=0.1 \n",
      "[CV]  max_depth=94, learning_rate=0.08, gamma=0.02, colsample_bylevel=0.1, total=   2.1s\n",
      "[CV] max_depth=47, learning_rate=0.15, gamma=0.05, colsample_bylevel=0.1 \n",
      "[CV]  max_depth=110, learning_rate=0.12, gamma=0.05, colsample_bylevel=0.1, total=   1.7s\n",
      "[CV] max_depth=47, learning_rate=0.15, gamma=0.05, colsample_bylevel=0.1 \n",
      "[CV]  max_depth=110, learning_rate=0.12, gamma=0.05, colsample_bylevel=0.1, total=   1.5s\n",
      "[CV] max_depth=47, learning_rate=0.15, gamma=0.05, colsample_bylevel=0.1 \n",
      "[CV]  max_depth=47, learning_rate=0.15, gamma=0.05, colsample_bylevel=0.1, total=   1.6s\n",
      "[CV] max_depth=94, learning_rate=0.1, gamma=0.02, colsample_bylevel=0.25 \n",
      "[CV]  max_depth=110, learning_rate=0.12, gamma=0.05, colsample_bylevel=0.1, total=   2.0s\n",
      "[CV] max_depth=94, learning_rate=0.1, gamma=0.02, colsample_bylevel=0.25 \n",
      "[CV]  max_depth=47, learning_rate=0.15, gamma=0.05, colsample_bylevel=0.1, total=   1.8s\n",
      "[CV] max_depth=94, learning_rate=0.1, gamma=0.02, colsample_bylevel=0.25 \n",
      "[CV]  max_depth=47, learning_rate=0.15, gamma=0.05, colsample_bylevel=0.1, total=   1.8s\n",
      "[CV] max_depth=1, learning_rate=0.12, gamma=0.02, colsample_bylevel=0.1 \n",
      "[CV]  max_depth=1, learning_rate=0.12, gamma=0.02, colsample_bylevel=0.1, total=   0.5s\n",
      "[CV] max_depth=1, learning_rate=0.12, gamma=0.02, colsample_bylevel=0.1 \n",
      "[CV]  max_depth=1, learning_rate=0.12, gamma=0.02, colsample_bylevel=0.1, total=   0.5s\n",
      "[CV] max_depth=1, learning_rate=0.12, gamma=0.02, colsample_bylevel=0.1 \n",
      "[CV]  max_depth=94, learning_rate=0.1, gamma=0.02, colsample_bylevel=0.25, total=   2.8s\n",
      "[CV] max_depth=1, learning_rate=0.15, gamma=0.05, colsample_bylevel=0.1 \n",
      "[CV]  max_depth=1, learning_rate=0.12, gamma=0.02, colsample_bylevel=0.1, total=   0.4s\n",
      "[CV] max_depth=1, learning_rate=0.15, gamma=0.05, colsample_bylevel=0.1 \n",
      "[CV]  max_depth=1, learning_rate=0.15, gamma=0.05, colsample_bylevel=0.1, total=   0.5s\n",
      "[CV]  max_depth=1, learning_rate=0.15, gamma=0.05, colsample_bylevel=0.1, total=   0.5s\n",
      "[CV] max_depth=1, learning_rate=0.15, gamma=0.05, colsample_bylevel=0.1 \n",
      "[CV] max_depth=63, learning_rate=0.08, gamma=0.02, colsample_bylevel=0.1 \n",
      "[CV]  max_depth=1, learning_rate=0.15, gamma=0.05, colsample_bylevel=0.1, total=   0.5s\n",
      "[CV] max_depth=63, learning_rate=0.08, gamma=0.02, colsample_bylevel=0.1 \n",
      "[CV]  max_depth=94, learning_rate=0.1, gamma=0.02, colsample_bylevel=0.25, total=   4.0s\n",
      "[CV] max_depth=63, learning_rate=0.08, gamma=0.02, colsample_bylevel=0.1 \n",
      "[CV]  max_depth=94, learning_rate=0.1, gamma=0.02, colsample_bylevel=0.25, total=   3.3s\n",
      "[CV] max_depth=1, learning_rate=0.08, gamma=0.02, colsample_bylevel=0.4 \n",
      "[CV]  max_depth=1, learning_rate=0.08, gamma=0.02, colsample_bylevel=0.4, total=   0.9s\n",
      "[CV] max_depth=1, learning_rate=0.08, gamma=0.02, colsample_bylevel=0.4 \n",
      "[CV]  max_depth=63, learning_rate=0.08, gamma=0.02, colsample_bylevel=0.1, total=   1.6s\n",
      "[CV] max_depth=1, learning_rate=0.08, gamma=0.02, colsample_bylevel=0.4 \n",
      "[CV]  max_depth=63, learning_rate=0.08, gamma=0.02, colsample_bylevel=0.1, total=   2.4s\n",
      "[CV] max_depth=63, learning_rate=0.12, gamma=0.1, colsample_bylevel=0.4 \n",
      "[CV]  max_depth=1, learning_rate=0.08, gamma=0.02, colsample_bylevel=0.4, total=   0.7s\n",
      "[CV] max_depth=63, learning_rate=0.12, gamma=0.1, colsample_bylevel=0.4 \n",
      "[CV]  max_depth=63, learning_rate=0.08, gamma=0.02, colsample_bylevel=0.1, total=   2.3s\n",
      "[CV] max_depth=63, learning_rate=0.12, gamma=0.1, colsample_bylevel=0.4 \n",
      "[CV]  max_depth=1, learning_rate=0.08, gamma=0.02, colsample_bylevel=0.4, total=   0.8s\n",
      "[CV] max_depth=16, learning_rate=0.1, gamma=0.05, colsample_bylevel=0.4 \n",
      "[CV]  max_depth=63, learning_rate=0.12, gamma=0.1, colsample_bylevel=0.4, total=   4.7s\n",
      "[CV] max_depth=16, learning_rate=0.1, gamma=0.05, colsample_bylevel=0.4 \n",
      "[CV]  max_depth=16, learning_rate=0.1, gamma=0.05, colsample_bylevel=0.4, total=   4.7s\n",
      "[CV] max_depth=16, learning_rate=0.1, gamma=0.05, colsample_bylevel=0.4 \n",
      "[CV]  max_depth=63, learning_rate=0.12, gamma=0.1, colsample_bylevel=0.4, total=   5.7s\n",
      "[CV] max_depth=63, learning_rate=0.12, gamma=0.02, colsample_bylevel=0.4 \n",
      "[CV]  max_depth=63, learning_rate=0.12, gamma=0.1, colsample_bylevel=0.4, total=   5.3s\n",
      "[CV] max_depth=63, learning_rate=0.12, gamma=0.02, colsample_bylevel=0.4 \n",
      "[CV]  max_depth=16, learning_rate=0.1, gamma=0.05, colsample_bylevel=0.4, total=   4.7s\n",
      "[CV] max_depth=63, learning_rate=0.12, gamma=0.02, colsample_bylevel=0.4 \n",
      "[CV]  max_depth=63, learning_rate=0.12, gamma=0.02, colsample_bylevel=0.4, total=   4.8s\n",
      "[CV]  max_depth=16, learning_rate=0.1, gamma=0.05, colsample_bylevel=0.4, total=   5.4s\n",
      "[CV]  max_depth=63, learning_rate=0.12, gamma=0.02, colsample_bylevel=0.4, total=   5.5s\n",
      "[CV]  max_depth=63, learning_rate=0.12, gamma=0.02, colsample_bylevel=0.4, total=   2.9s\n"
     ]
    },
    {
     "name": "stderr",
     "output_type": "stream",
     "text": [
      "[Parallel(n_jobs=-1)]: Done 120 out of 120 | elapsed:  1.4min finished\n"
     ]
    },
    {
     "data": {
      "text/plain": [
       "RandomizedSearchCV(cv=3, error_score='raise',\n",
       "          estimator=XGBClassifier(base_score=0.5, booster='gbtree', colsample_bylevel=1,\n",
       "       colsample_bytree=1, gamma=0, learning_rate=0.1, max_delta_step=0,\n",
       "       max_depth=3, min_child_weight=1, missing=None, n_estimators=100,\n",
       "       n_jobs=1, nthread=None, objective='binary:logistic', random_state=0,\n",
       "       reg_alpha=0, reg_lambda=1, scale_pos_weight=1, seed=None,\n",
       "       silent=True, subsample=1),\n",
       "          fit_params=None, iid=True, n_iter=40, n_jobs=-1,\n",
       "          param_distributions={'max_depth': [1, 16, 32, 47, 63, 78, 94, 110], 'learning_rate': [0.1, 0.08, 0.12, 0.15], 'colsample_bylevel': [0.4, 0.25, 0.1], 'gamma': [0.02, 0.05, 0.1]},\n",
       "          pre_dispatch='2*n_jobs', random_state=31, refit=True,\n",
       "          return_train_score='warn', scoring='roc_auc', verbose=2)"
      ]
     },
     "execution_count": 43,
     "metadata": {},
     "output_type": "execute_result"
    }
   ],
   "source": [
    "# -*- coding: utf-8 -*-\n",
    "\n",
    "#np.sum(data.values >= np.finfo(np.float64).max)\n",
    "#np.sum(data.values >= np.finfo(np.float32).max)#!/usr/bin/env python3\n",
    "# -*- coding: utf-8 -*-\n",
    "\"\"\"\n",
    "Created on Wed Aug  1 09:20:02 2018\n",
    "\n",
    "@author: leaferickson\n",
    "\"\"\"\n",
    "#np.isnan(data.values.any())\n",
    "#data.dropna(how = \"any\")\n",
    "\n",
    "\n",
    "import pandas as pd\n",
    "import numpy as np\n",
    "from sklearn.preprocessing import StandardScaler\n",
    "from xgboost import XGBClassifier\n",
    "from sklearn.model_selection import train_test_split, RandomizedSearchCV, GridSearchCV\n",
    "from sklearn.metrics import roc_auc_score\n",
    "import imblearn.over_sampling\n",
    "import matplotlib.pyplot as plt\n",
    "data = pd.read_csv(\"../data.csv\")\n",
    "\n",
    "#data[\"value\"] = data.groupby(\"name\").transform(lambda x: x.fillna(x.mean()))\n",
    "#X = data.loc[:,\"Attr1\":\"Attr64\"]\n",
    "\n",
    "#X_train, X_test, y_train, y_test = train_test_split(X, y, test_size=0.3, random_state=45, stratify = y)\n",
    "data_train, data_test = train_test_split(data, test_size=0.3, random_state=45, stratify = data[\"class\"])\n",
    "\n",
    "data_test.groupby(\"class\").mean()\n",
    "X_train = data_train.transform(lambda x: x.fillna(x.mean())).loc[:,\"Attr1\":\"Attr64\"]\n",
    "y_train = data_train[\"class\"]\n",
    "X_test = data_test.transform(lambda x: x.fillna(x.mean())).loc[:,\"Attr1\":\"Attr64\"]\n",
    "y_test = data_test[\"class\"]\n",
    "scaler = StandardScaler()\n",
    "X_train = scaler.fit_transform(X_train)\n",
    "X_test = scaler.fit_transform(X_test)\n",
    "\n",
    "\n",
    "\n",
    "ROS = imblearn.over_sampling.RandomOverSampler(\\\n",
    "                                               ratio={0:4728,1:190*24}, \\\n",
    "                                               random_state=42) \n",
    "    \n",
    "X_train_oversample, y_train_oversample = ROS.fit_sample(X_train, y_train)\n",
    "\n",
    "\n",
    "#N_estimators\n",
    "n_estimators = [100, 200, 400, 1000]\n",
    "# Maximum number of levels in tree\n",
    "max_depth = [int(x) for x in np.linspace(1, 110, num =8)]\n",
    "# Minimum number of samples required to split a node\n",
    "learning_rate = [0.1, 0.08, 0.12, 0.15]\n",
    "# Ratio of columns used at each split\n",
    "colsample_bylevel = [0.4, 0.25, 0.1]\n",
    "# Impurity threshold change under which to no longer split\n",
    "gamma = [0.02, 0.05, 0.1]\n",
    "# Create the random grid\n",
    "random_grid = {'max_depth': max_depth,\n",
    "               'learning_rate': learning_rate,\n",
    "               'colsample_bylevel': colsample_bylevel,\n",
    "               'gamma': gamma}\n",
    "\n",
    "# Use the random grid to search for best hyperparameters\n",
    "# Random search of parameters, using 5 fold cross validation, \n",
    "# search across 100 different combinations, and use all available cores\n",
    "rf_random = RandomizedSearchCV(estimator = XGBClassifier(), scoring = 'roc_auc', param_distributions = random_grid, n_iter = 40, cv = 3, verbose=2, random_state=31, n_jobs = -1)\n",
    "\n",
    "# Fit the random search model\n",
    "rf_random.fit(X_train_oversample, y_train_oversample)"
   ]
  },
  {
   "cell_type": "code",
   "execution_count": 44,
   "metadata": {},
   "outputs": [
    {
     "data": {
      "text/plain": [
       "1.0"
      ]
     },
     "execution_count": 44,
     "metadata": {},
     "output_type": "execute_result"
    }
   ],
   "source": [
    "rf_random.best_score_"
   ]
  },
  {
   "cell_type": "code",
   "execution_count": 45,
   "metadata": {},
   "outputs": [
    {
     "data": {
      "text/plain": [
       "{'max_depth': 16,\n",
       " 'learning_rate': 0.15,\n",
       " 'gamma': 0.02,\n",
       " 'colsample_bylevel': 0.25}"
      ]
     },
     "execution_count": 45,
     "metadata": {},
     "output_type": "execute_result"
    }
   ],
   "source": [
    "rf_random.best_params_"
   ]
  },
  {
   "cell_type": "code",
   "execution_count": 46,
   "metadata": {},
   "outputs": [
    {
     "data": {
      "text/plain": [
       "XGBClassifier(base_score=0.5, booster='gbtree', colsample_bylevel=0.25,\n",
       "       colsample_bytree=1, gamma=0.02, learning_rate=0.15,\n",
       "       max_delta_step=0, max_depth=16, min_child_weight=1, missing=None,\n",
       "       n_estimators=100, n_jobs=1, nthread=None,\n",
       "       objective='binary:logistic', random_state=0, reg_alpha=0,\n",
       "       reg_lambda=1, scale_pos_weight=1, seed=None, silent=True,\n",
       "       subsample=1)"
      ]
     },
     "execution_count": 46,
     "metadata": {},
     "output_type": "execute_result"
    }
   ],
   "source": [
    "rf_random.best_estimator_"
   ]
  },
  {
   "cell_type": "code",
   "execution_count": 73,
   "metadata": {},
   "outputs": [
    {
     "name": "stderr",
     "output_type": "stream",
     "text": [
      "/home/leaferickson/anaconda3/lib/python3.6/site-packages/sklearn/preprocessing/label.py:151: DeprecationWarning: The truth value of an empty array is ambiguous. Returning False, but in future this will result in an error. Use `array.size > 0` to check that an array is not empty.\n",
      "  if diff:\n",
      "/home/leaferickson/anaconda3/lib/python3.6/site-packages/sklearn/preprocessing/label.py:151: DeprecationWarning: The truth value of an empty array is ambiguous. Returning False, but in future this will result in an error. Use `array.size > 0` to check that an array is not empty.\n",
      "  if diff:\n",
      "/home/leaferickson/anaconda3/lib/python3.6/site-packages/sklearn/preprocessing/label.py:151: DeprecationWarning: The truth value of an empty array is ambiguous. Returning False, but in future this will result in an error. Use `array.size > 0` to check that an array is not empty.\n",
      "  if diff:\n",
      "/home/leaferickson/anaconda3/lib/python3.6/site-packages/sklearn/preprocessing/label.py:151: DeprecationWarning: The truth value of an empty array is ambiguous. Returning False, but in future this will result in an error. Use `array.size > 0` to check that an array is not empty.\n",
      "  if diff:\n"
     ]
    },
    {
     "data": {
      "image/png": "[encoded data removed]",
      "text/plain": [
       "<Figure size 900x600 with 2 Axes>"
      ]
     },
     "metadata": {},
     "output_type": "display_data"
    }
   ],
   "source": [
    "rf = XGBClassifier(n_estimators = 200, learning_rate = 0.15, gamma = 0.02, random_state = 31)\n",
    "rf.fit(X_train_oversample, y_train_oversample)\n",
    "rf.score(X_train, y_train)\n",
    "rf.score(X_test, y_test)\n",
    "roc_auc_score(y_test, rf.predict(X_test))\n",
    "\n",
    "\n",
    "\n",
    "from sklearn.metrics import confusion_matrix\n",
    "import itertools\n",
    "\n",
    "plt.figure(dpi=150)\n",
    "cm = confusion_matrix(y_test, rf.predict(X_test))\n",
    "plt.imshow(cm, cmap=plt.cm.Blues)\n",
    "plt.colorbar()\n",
    "plt.xticks([0,1])\n",
    "plt.yticks([0,1])\n",
    "plt.title(\"Predicting Polish Bankruptcy within 5 Years\")\n",
    "plt.ylabel(\"True\")\n",
    "plt.xlabel(\"Predicted\")\n",
    "fmt = '.2f'\n",
    "thresh = cm.max() / 2.\n",
    "for i, j in itertools.product(range(cm.shape[0]), range(cm.shape[1])):\n",
    "    plt.text(j, i, format(cm[i, j], fmt),\n",
    "             horizontalalignment=\"center\",\n",
    "             color=\"white\" if cm[i, j] > thresh else \"black\")\n",
    "#    plt.savefig(\"RF_Naive\")# -*- coding: utf-8 -*-"
   ]
  },
  {
   "cell_type": "code",
   "execution_count": 74,
   "metadata": {},
   "outputs": [
    {
     "name": "stderr",
     "output_type": "stream",
     "text": [
      "/home/leaferickson/anaconda3/lib/python3.6/site-packages/sklearn/preprocessing/label.py:151: DeprecationWarning: The truth value of an empty array is ambiguous. Returning False, but in future this will result in an error. Use `array.size > 0` to check that an array is not empty.\n",
      "  if diff:\n"
     ]
    },
    {
     "data": {
      "text/plain": [
       "0.8323836657169991"
      ]
     },
     "execution_count": 74,
     "metadata": {},
     "output_type": "execute_result"
    }
   ],
   "source": [
    "roc_auc_score(y_test, rf.predict(X_test))"
   ]
  },
  {
   "cell_type": "code",
   "execution_count": null,
   "metadata": {},
   "outputs": [],
   "source": []
  }
 ],
 "metadata": {
  "kernelspec": {
   "display_name": "Python 3",
   "language": "python",
   "name": "python3"
  },
  "language_info": {
   "codemirror_mode": {
    "name": "ipython",
    "version": 3
   },
   "file_extension": ".py",
   "mimetype": "text/x-python",
   "name": "python",
   "nbconvert_exporter": "python",
   "pygments_lexer": "ipython3",
   "version": "3.6.6"
  }
 },
 "nbformat": 4,
 "nbformat_minor": 2
}
